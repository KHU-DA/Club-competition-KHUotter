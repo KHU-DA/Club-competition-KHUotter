{
  "cells": [
    {
      "cell_type": "markdown",
      "id": "lonely-astrology",
      "metadata": {
        "id": "lonely-astrology"
      },
      "source": [
        "## 기본 셋팅"
      ]
    },
    {
      "cell_type": "code",
      "execution_count": null,
      "id": "color-foundation",
      "metadata": {
        "id": "color-foundation"
      },
      "outputs": [],
      "source": [
        "import pathlib\n",
        "import random\n",
        "from functools import reduce\n",
        "from collections import defaultdict\n",
        "\n",
        "import pandas as pd\n",
        "import geopandas as gpd\n",
        "import folium\n",
        "\n",
        "import shapely\n",
        "import numpy as np\n",
        "import requests\n",
        "import json\n",
        "\n",
        "from IPython.display import display\n",
        "import matplotlib.pyplot as plt\n",
        "from tqdm.notebook import tqdm\n",
        "import xgboost\n",
        "import sklearn.cluster\n",
        "import tensorflow as tf\n",
        "import webbrowser \n",
        "\n",
        "import glob\n",
        "import zipfile\n",
        "import math\n",
        "\n",
        "from sklearn.preprocessing import MinMaxScaler\n",
        "from geoband import API\n",
        "from math import *"
      ]
    },
    {
      "cell_type": "markdown",
      "id": "north-definition",
      "metadata": {
        "id": "north-definition"
      },
      "source": [
        "## 데이터셋 다운로드"
      ]
    },
    {
      "cell_type": "code",
      "execution_count": null,
      "id": "developing-peace",
      "metadata": {
        "id": "developing-peace"
      },
      "outputs": [],
      "source": [
        "from geoband.API import *\n",
        "\n",
        "# 1. 격자(100m X 100m)\n",
        "GetCompasData('SBJ_2206_001', '5', '5.김해시_격자(100X100).geojson')\n",
        "GetCompasData('SBJ_2206_001', '27', '16.김해시_토지소유정보.geojson')\n",
        "GetCompasData('SBJ_2206_001', '9', '9.김해시_하천현황.geojson')\n",
        "GetCompasData('SBJ_2206_001', '26', '8.김해시_공원현황.geojson')\n",
        "\n",
        "# 2. 감시 요인 \n",
        "# 감시 취약 지수\n",
        "GetCompasData('SBJ_2206_001', '1', '1.김해시_CCTV설치현황.csv')\n",
        "\n",
        "# 3. 범죄 요인\n",
        "# 범죄 발생 지수\n",
        "GetCompasData('SBJ_2206_001', '25', '4.김해시_112신고이력(격자매핑).csv')\n",
        "\n",
        "# 4. 상권 요인\n",
        "# 풍속 업소 지수\n",
        "GetCompasData('SBJ_2206_001', '24', '20.김해시_치안_유관업종_현황.csv')\n",
        "\n",
        "# 5. 인구 요인\n",
        "# 유동 인구 지수\n",
        "GetCompasData('SBJ_2206_001', '3', '3.김해시_성연령별_요일별_유동인구.zip')\n",
        "# 부양 인구 지수\n",
        "GetCompasData('SBJ_2206_001', '22', '10.김해시_성연령별_거주인구격자.geojson')\n",
        "# 외국인 위험 지수\n",
        "GetCompasData('SBJ_2206_001', '11', '11.김해시_외국인_읍면동별_격자.geojson')\n",
        "\n",
        "# 6. 주택 및 입지 요인\n",
        "GetCompasData('SBJ_2206_001', '23', '12.김해시_건물노후도.geojson')\n",
        "# 건물 특성 지수\n",
        "GetCompasData('SBJ_2206_001', '13', '13.김해시_도로명주소(건물).geojson')\n",
        "# 아동 시설 지수\n",
        "GetCompasData('SBJ_2206_001', '18', '18.김해시_유치원현황.csv')\n",
        "GetCompasData('SBJ_2206_001', '17', '17.김해시_어린이집현황.csv')\n",
        "GetCompasData('SBJ_2206_001', '19', '19.김해시_학교(초,중,고)현황.csv')\n",
        "\n",
        "# 7. 안전 및 보안 시설 요인\n",
        "# 공적 감시 취약 지수\n",
        "# 대체 감시 취약 지수\n",
        "GetCompasData('SBJ_2206_001', '6', '6.김해시_보안등설치현황.csv')\n",
        "GetCompasData('SBJ_2206_001', '28', '7.김해시_안전비상벨설치현황.csv')\n",
        "GetCompasData('SBJ_2206_001', '21', '21.김해시_아동안전지킴이집_현황.csv')"
      ]
    },
    {
      "cell_type": "code",
      "execution_count": null,
      "id": "opposed-journal",
      "metadata": {
        "id": "opposed-journal"
      },
      "outputs": [],
      "source": [
        "import zipfile\n",
        "\n",
        "with zipfile.ZipFile('3.김해시_성연령별_요일별_유동인구.zip', 'r') as zf:\n",
        "    zipinfo = zf.infolist()\n",
        "    for info in zipinfo:\n",
        "        info.filename = info.filename.encode('cp437').decode('euc-kr')\n",
        "        zf.extract(info, './')"
      ]
    },
    {
      "cell_type": "markdown",
      "id": "handled-midwest",
      "metadata": {
        "id": "handled-midwest"
      },
      "source": [
        "## 1) 분석 단위 (격자)"
      ]
    },
    {
      "cell_type": "code",
      "execution_count": null,
      "id": "false-kingdom",
      "metadata": {
        "id": "false-kingdom"
      },
      "outputs": [],
      "source": [
        "# 격자 데이터 불러오기\n",
        "grid_gdf = gpd.read_file('5.김해시_격자(100X100).geojson')\n",
        "grid_gdf = grid_gdf.copy()\n",
        "\n",
        "# 토지 데이터 불러오기\n",
        "land_gdf = gpd.read_file('16.김해시_토지소유정보.geojson')\n",
        "land_gdf = land_gdf.copy()\n",
        "\n",
        "# 하천 데이터 불러오기\n",
        "river_gdf = gpd.read_file('9.김해시_하천현황.geojson')\n",
        "river_gdf = river_gdf.copy()\n",
        "\n",
        "# 거주 데이터 불러오기\n",
        "pop_gdf = gpd.read_file('10.김해시_성연령별_거주인구격자.geojson')\n",
        "pop_gdf = pop_gdf.copy()\n",
        "\n",
        "# 격자별 거주 인구 총합\n",
        "pop_gdf['pop_sum'] = pop_gdf.sum(axis = 1)\n",
        "pop_gdf = pop_gdf[['gid', 'geometry', 'pop_sum']]\n",
        "\n",
        "# 격자 & 토지 & 하천 & 인구 데이터 연결한 전체 집합 생성\n",
        "set_gdf = gpd.sjoin(grid_gdf, land_gdf, how='left', op='intersects')\n",
        "set_gdf = set_gdf.drop(['index_right'], axis = 1)\n",
        "set_gdf = gpd.sjoin(set_gdf, river_gdf, how='left', op='intersects')\n",
        "set_gdf = set_gdf.drop(['index_right'], axis = 1)\n",
        "set_gdf = gpd.sjoin(set_gdf, pop_gdf, how='left', op='contains')\n",
        "\n",
        "\n",
        "# 90% 이상 차지하는 지역 또는 하천인 지역 또는 3년간 거주 인구 5명 이하 인 지역 집합 생성\n",
        "condition = (set_gdf.land_area >= 9000) | (set_gdf.RIVLEN2 > 0) | (set_gdf.pop_sum <= 5)\n",
        "subset_gdf = set_gdf[condition]\n",
        "\n",
        "# (전체 지역) - (조건 만족하는 지역) \n",
        "result_grid_gdf = pd.merge(\n",
        "    set_gdf, subset_gdf, how = 'outer', indicator = True\n",
        "    ).query(\n",
        "        '_merge == \"left_only\"'\n",
        "        ).drop(columns = ['_merge']\n",
        "        )\n",
        "\n",
        "result_grid_gdf"
      ]
    },
    {
      "cell_type": "code",
      "execution_count": null,
      "id": "simplified-bread",
      "metadata": {
        "id": "simplified-bread"
      },
      "outputs": [],
      "source": [
        "result_grid_gdf = result_grid_gdf[['gid_left', 'geometry']]\n",
        "result_grid_gdf\n",
        "result_grid_gdf = result_grid_gdf.drop_duplicates()\n",
        "result_grid_gdf = result_grid_gdf.rename(columns = {'gid_left' : 'gid'})\n",
        "result_grid_gdf"
      ]
    },
    {
      "cell_type": "code",
      "execution_count": null,
      "id": "continent-humanitarian",
      "metadata": {
        "id": "continent-humanitarian"
      },
      "outputs": [],
      "source": [
        "backup = result_grid_gdf\n",
        "backup"
      ]
    },
    {
      "cell_type": "code",
      "execution_count": null,
      "id": "satisfactory-blocking",
      "metadata": {
        "id": "satisfactory-blocking"
      },
      "outputs": [],
      "source": [
        "center = [35.2285451, 128.8893517]"
      ]
    },
    {
      "cell_type": "code",
      "execution_count": null,
      "id": "piano-output",
      "metadata": {
        "id": "piano-output"
      },
      "outputs": [],
      "source": [
        "grid_gdf_copy = grid_gdf\n",
        "grid_gdf_copy = grid_gdf_copy.drop(columns = ['gid'])\n",
        "grid_gdf_copy"
      ]
    },
    {
      "cell_type": "markdown",
      "id": "incredible-wichita",
      "metadata": {
        "id": "incredible-wichita"
      },
      "source": [
        "### 전체 Grid Map 확인하기"
      ]
    },
    {
      "cell_type": "code",
      "execution_count": null,
      "id": "impressive-dream",
      "metadata": {
        "id": "impressive-dream"
      },
      "outputs": [],
      "source": [
        "total_map = folium.Map(location= center, zoom_start=11) # folium.Map 은 (lat, lng) 로 location 을 받음에 유의!\n",
        "\n",
        "folium.GeoJson(grid_gdf_copy, name = 'Grid').add_to(total_map)\n",
        "\n",
        "total_map.save('total_map.html')\n",
        "total_map"
      ]
    },
    {
      "cell_type": "code",
      "execution_count": null,
      "id": "aggregate-display",
      "metadata": {
        "id": "aggregate-display"
      },
      "outputs": [],
      "source": [
        "result_grid_map = folium.Map(location= center, zoom_start=11) # folium.Map 은 (lat, lng) 로 location 을 받음에 유의!\n",
        "\n",
        "folium.GeoJson(result_grid_gdf, name = 'Grid').add_to(result_grid_map)\n",
        "\n",
        "result_grid_map.save('result_grid_map.html')\n",
        "result_grid_map"
      ]
    },
    {
      "cell_type": "markdown",
      "id": "grateful-shakespeare",
      "metadata": {
        "id": "grateful-shakespeare"
      },
      "source": [
        "## 2) 감시 취약 지수"
      ]
    },
    {
      "cell_type": "code",
      "execution_count": null,
      "id": "fitting-spray",
      "metadata": {
        "id": "fitting-spray"
      },
      "outputs": [],
      "source": [
        "# CCTV 데이터 불러오기\n",
        "cctv_df = pd.read_csv('1.김해시_CCTV설치현황.csv', encoding = 'utf-8')\n",
        "cctv_df = cctv_df.copy()\n",
        "\n",
        "# CCTV 데이터 -> geopandas 형태로 변형\n",
        "cctv_gdf = gpd.GeoDataFrame(\n",
        "    cctv_df, geometry=gpd.points_from_xy(cctv_df.lon, cctv_df.lat))\n",
        "\n",
        "cctv_gdf"
      ]
    },
    {
      "cell_type": "code",
      "execution_count": null,
      "id": "regular-ordinance",
      "metadata": {
        "id": "regular-ordinance"
      },
      "outputs": [],
      "source": [
        "cctv_set_gdf = gpd.sjoin(result_grid_gdf, cctv_gdf, how='left', op='intersects')\n",
        "cctv_set_gdf = cctv_set_gdf.groupby('gid')['cctv_nm'].agg(['count'])\n",
        "cctv_set_gdf"
      ]
    },
    {
      "cell_type": "code",
      "execution_count": null,
      "id": "adaptive-target",
      "metadata": {
        "id": "adaptive-target"
      },
      "outputs": [],
      "source": [
        "cctv_set_gdf['감시취약지수_1'] = 1 - ((cctv_set_gdf['count']*50*50*pi) / 10000)\n",
        "cctv_set_gdf['감시취약지수_2'] = (cctv_set_gdf['감시취약지수_1'] - cctv_set_gdf['감시취약지수_1'].min()) / ((cctv_set_gdf['감시취약지수_1']).max() - cctv_set_gdf['감시취약지수_1'].min())\n",
        "cctv_set_gdf['감시취약지수_3'] = cctv_set_gdf['감시취약지수_2'] * 100\n",
        "cctv_set_gdf['감시취약지수_4'] = cctv_set_gdf['감시취약지수_3'] * 0.357\n",
        "cctv_set_gdf = cctv_set_gdf.sort_values(by = ['감시취약지수_4'], ascending = False)\n",
        "cctv_set_gdf"
      ]
    },
    {
      "cell_type": "code",
      "execution_count": null,
      "id": "welcome-rings",
      "metadata": {
        "id": "welcome-rings"
      },
      "outputs": [],
      "source": [
        "cctv_result = cctv_set_gdf[['감시취약지수_4']]\n",
        "cctv_result"
      ]
    },
    {
      "cell_type": "code",
      "execution_count": null,
      "id": "consistent-television",
      "metadata": {
        "id": "consistent-television"
      },
      "outputs": [],
      "source": [
        "cctv_score = cctv_set_gdf[['감시취약지수_3']]\n",
        "cctv_score = pd.merge(cctv_score, result_grid_gdf, on = 'gid', how = 'left')\n",
        "cctv_score"
      ]
    },
    {
      "cell_type": "code",
      "execution_count": null,
      "id": "elder-classification",
      "metadata": {
        "id": "elder-classification"
      },
      "outputs": [],
      "source": [
        "cctv_m = folium.Map(\n",
        "    location = center,\n",
        "    zoom_start=11, \n",
        "    tiles='cartodbpositron'\n",
        ")\n",
        "\n",
        "\n",
        "cctv_m.choropleth(geo_data=result_grid_gdf,\n",
        "             data=cctv_score,\n",
        "             columns = ['gid', '감시취약지수_3'],\n",
        "             fill_color='YlOrRd', \n",
        "             key_on='properties.gid',\n",
        "             legend_name=\"CCTV 감시 취약 지수\"\n",
        "            )\n",
        "\n",
        "cctv_m.save('cctv_map.html')\n",
        "\n",
        "cctv_m"
      ]
    },
    {
      "cell_type": "markdown",
      "id": "general-backing",
      "metadata": {
        "id": "general-backing"
      },
      "source": [
        "## 3) 범죄 발생 지수"
      ]
    },
    {
      "cell_type": "code",
      "execution_count": null,
      "id": "naughty-builder",
      "metadata": {
        "id": "naughty-builder"
      },
      "outputs": [],
      "source": [
        "# 경찰 신고 데이터 불러오기\n",
        "police_df = pd.read_csv('4.김해시_112신고이력(격자매핑).csv', encoding = 'utf-8')\n",
        "police_df = police_df.copy()\n",
        "police_df"
      ]
    },
    {
      "cell_type": "code",
      "execution_count": null,
      "id": "academic-internship",
      "metadata": {
        "id": "academic-internship"
      },
      "outputs": [],
      "source": [
        "result_grid_gdf2 = result_grid_gdf\n",
        "result_grid_gdf2"
      ]
    },
    {
      "cell_type": "code",
      "execution_count": null,
      "id": "incomplete-fitting",
      "metadata": {
        "id": "incomplete-fitting"
      },
      "outputs": [],
      "source": [
        "police_tmp = pd.DataFrame(result_grid_gdf2)\n",
        "\n",
        "police_df = pd.merge(police_tmp, police_df, how = 'left')\n",
        "police_df = police_df.drop_duplicates()\n",
        "police_df"
      ]
    },
    {
      "cell_type": "code",
      "execution_count": null,
      "id": "vocational-complexity",
      "metadata": {
        "id": "vocational-complexity"
      },
      "outputs": [],
      "source": [
        "police_df['case_type'].unique()"
      ]
    },
    {
      "cell_type": "code",
      "execution_count": null,
      "id": "extensive-start",
      "metadata": {
        "id": "extensive-start"
      },
      "outputs": [],
      "source": [
        "# 5대 범죄 신고 건수\n",
        "\n",
        "#살인\n",
        "crime1 = ['살인']\n",
        "\n",
        "# 강도/강간/강제추행 \n",
        "crime2 = ['성폭력', '주거침입', '납치감금', '강도']\n",
        "\n",
        "# 절도/폭력\n",
        "crime3 = ['가정폭력', '폭력', '절도', '데이트 폭력', '아동학대(가정내)', \n",
        "          '협박', '스토킹', '아동학대(기타)', '공갈', '학교폭력']\n",
        "# 민원 발생\n",
        "crime4 = ['위험방지', '기타형사범', '시비', '소음', \n",
        "          '주취자', '기타_타기관', '서비스요청', '상담문의', '교통사고', '교통위반', \n",
        "          '실종(실종아동 등)', '행패소란', '청소년비행', '무전취식승차', '보호조치',\n",
        "            '교통불편', '기타경범', '화재', '비상벨', '재물손괴', '가출 등', '자살', \n",
        "          '사기', '풍속영업', '도박', '경비업체요청', '수배불심자', '구조요청',\n",
        "          '인피도주', '치기', '노점상', '위험동물', '사망.대형사고', '재해재난', '청탁금지법',\n",
        "            '보이스 피싱', '음주운전', '마약', '동물학대', '변사자']\n",
        "\n",
        "#민원 미발생\n",
        "crime5 = ['FTX', '분실습득',  '내용확인불가']\n",
        "\n",
        "# nan\n",
        "crime6 = [0]"
      ]
    },
    {
      "cell_type": "code",
      "execution_count": null,
      "id": "reported-hardwood",
      "metadata": {
        "id": "reported-hardwood"
      },
      "outputs": [],
      "source": [
        "police_df = police_df.fillna(0)\n",
        "tmp = pd.DataFrame()\n",
        "\n",
        "for i in crime1:    \n",
        "    tmp1 = police_df.loc[police_df['case_type'] == i]\n",
        "    tmp1['police_score'] = 5\n",
        "    tmp = pd.concat([tmp, tmp1])\n",
        "    \n",
        "for i in crime2:    \n",
        "    tmp2 = police_df.loc[police_df['case_type'] == i ] \n",
        "    tmp2['police_score']= 4\n",
        "    tmp = pd.concat([tmp, tmp2])\n",
        "    \n",
        "for i in crime3:    \n",
        "    tmp3 = police_df.loc[police_df['case_type'] == i ] \n",
        "    tmp3['police_score']= 3\n",
        "    tmp = pd.concat([tmp, tmp3])\n",
        "    \n",
        "for i in crime4:    \n",
        "    tmp4 = police_df.loc[police_df['case_type'] == i ] \n",
        "    tmp4['police_score']= 2\n",
        "    tmp = pd.concat([tmp, tmp4])\n",
        "\n",
        "for i in crime5:    \n",
        "    tmp5 = police_df.loc[police_df['case_type'] == i ] \n",
        "    tmp5['police_score']= 1\n",
        "    tmp = pd.concat([tmp, tmp5])\n",
        "\n",
        "for i in crime6:    \n",
        "    tmp6 = police_df.loc[police_df['case_type'] == i ] \n",
        "    tmp6['police_score']= 0\n",
        "    tmp = pd.concat([tmp, tmp6])\n",
        "    \n",
        "    \n",
        "    \n",
        "police_df = tmp.copy()\n",
        "police_df"
      ]
    },
    {
      "cell_type": "code",
      "execution_count": null,
      "id": "adolescent-venice",
      "metadata": {
        "id": "adolescent-venice"
      },
      "outputs": [],
      "source": [
        "police_set_gdf = pd.merge(left = result_grid_gdf2 , right = police_df, how = \"left\", on = \"gid\")\n",
        "police_set_gdf = police_set_gdf.groupby(['gid', 'case_type'])['police_score'].agg(['count', 'sum'])\n",
        "police_set_gdf = police_set_gdf.groupby(['gid', 'case_type'])['count', 'sum'].mean().reset_index()\n",
        "police_set_gdf = police_set_gdf.groupby(['gid'])['sum'].agg(['sum'])\n",
        "police_set_gdf"
      ]
    },
    {
      "cell_type": "code",
      "execution_count": null,
      "id": "respiratory-ebony",
      "metadata": {
        "id": "respiratory-ebony"
      },
      "outputs": [],
      "source": [
        "police_set_gdf['범죄발생지수_1'] = (police_set_gdf['sum'] - police_set_gdf['sum'].min()) / (police_set_gdf['sum'].max() - police_set_gdf['sum'].min())\n",
        "police_set_gdf['범죄발생지수_2'] = police_set_gdf['범죄발생지수_1']*100\n",
        "police_set_gdf['범죄발생지수_3'] = police_set_gdf['범죄발생지수_2']*0.201\n",
        "police_set_gdf = police_set_gdf.sort_values(by = ['범죄발생지수_3'], ascending = False)\n",
        "police_set_gdf"
      ]
    },
    {
      "cell_type": "code",
      "execution_count": null,
      "id": "native-aaron",
      "metadata": {
        "id": "native-aaron"
      },
      "outputs": [],
      "source": [
        "call_result = police_set_gdf[['범죄발생지수_3']]\n",
        "call_result"
      ]
    },
    {
      "cell_type": "code",
      "execution_count": null,
      "id": "julian-patch",
      "metadata": {
        "id": "julian-patch"
      },
      "outputs": [],
      "source": [
        "call_score = police_set_gdf[['범죄발생지수_2']]\n",
        "call_score = pd.merge(call_score, result_grid_gdf, on = 'gid', how = 'right')\n",
        "call_score"
      ]
    },
    {
      "cell_type": "code",
      "execution_count": null,
      "id": "prompt-conversation",
      "metadata": {
        "id": "prompt-conversation"
      },
      "outputs": [],
      "source": [
        "call_m = folium.Map(\n",
        "    location = center,\n",
        "    zoom_start=11, \n",
        "    tiles='cartodbpositron'\n",
        ")\n",
        "\n",
        "\n",
        "call_m.choropleth(geo_data=result_grid_gdf,\n",
        "             data=call_score,\n",
        "             columns = ['gid', '범죄발생지수_2'],\n",
        "             fill_color='YlOrRd',\n",
        "             key_on='properties.gid',\n",
        "             legend_name=\"범죄 발생 지수\"\n",
        "            )\n",
        "\n",
        "call_m.save('call_map.html')\n",
        "\n",
        "call_m"
      ]
    },
    {
      "cell_type": "markdown",
      "id": "unexpected-evolution",
      "metadata": {
        "id": "unexpected-evolution"
      },
      "source": [
        "## 4) 풍속 업소 지수"
      ]
    },
    {
      "cell_type": "code",
      "execution_count": null,
      "id": "durable-congress",
      "metadata": {
        "id": "durable-congress"
      },
      "outputs": [],
      "source": [
        "busi_tmp_df = pd.read_csv('20.김해시_치안_유관업종_현황.csv')\n",
        "busi_df = busi_tmp_df.copy()\n",
        "\n",
        "busi_gdf = gpd.GeoDataFrame(\n",
        "    busi_df, geometry=gpd.points_from_xy(busi_df.lon, busi_df.lat))\n",
        "\n",
        "busi_gdf"
      ]
    },
    {
      "cell_type": "code",
      "execution_count": null,
      "id": "interesting-logan",
      "metadata": {
        "id": "interesting-logan"
      },
      "outputs": [],
      "source": [
        "busi_gdf['open_gbn'].unique()"
      ]
    },
    {
      "cell_type": "code",
      "execution_count": null,
      "id": "identical-solid",
      "metadata": {
        "id": "identical-solid"
      },
      "outputs": [],
      "source": [
        "# 폐업한 곳 제거\n",
        "busi_gdf = busi_gdf[busi_gdf['open_gbn'] != '폐업']\n",
        "busi_gdf"
      ]
    },
    {
      "cell_type": "code",
      "execution_count": null,
      "id": "covered-sarah",
      "metadata": {
        "id": "covered-sarah"
      },
      "outputs": [],
      "source": [
        "busi_set_gdf = gpd.sjoin(result_grid_gdf2, busi_gdf,  how='left', op='intersects')\n",
        "busi_set_gdf = busi_set_gdf.groupby('gid')['store_gbn'].agg(['count'])\n",
        "busi_set_gdf = busi_set_gdf[busi_set_gdf['count'] > 5]\n",
        "busi_set_gdf"
      ]
    },
    {
      "cell_type": "code",
      "execution_count": null,
      "id": "derived-performance",
      "metadata": {
        "id": "derived-performance"
      },
      "outputs": [],
      "source": [
        "busi_set_gdf = pd.merge(busi_set_gdf, result_grid_gdf, how = 'right', on = 'gid')\n",
        "busi_set_gdf = busi_set_gdf.fillna(0)\n",
        "busi_set_gdf"
      ]
    },
    {
      "cell_type": "code",
      "execution_count": null,
      "id": "closed-retail",
      "metadata": {
        "id": "closed-retail"
      },
      "outputs": [],
      "source": [
        "busi_set_gdf['풍속업소지수_1'] = busi_set_gdf['count'] / busi_set_gdf['count'].sum()\n",
        "busi_set_gdf['풍속업소지수_2'] = (busi_set_gdf['풍속업소지수_1'] - busi_set_gdf['풍속업소지수_1'].min()) / (busi_set_gdf['풍속업소지수_1'].max() - busi_set_gdf['풍속업소지수_1'].min())\n",
        "busi_set_gdf['풍속업소지수_3'] = busi_set_gdf['풍속업소지수_2'] * 100\n",
        "busi_set_gdf['풍속업소지수_4'] = busi_set_gdf['풍속업소지수_3'] * 0.133\n",
        "busi_set_gdf = busi_set_gdf.sort_values(by = ['풍속업소지수_4'], ascending = False)\n",
        "busi_set_gdf"
      ]
    },
    {
      "cell_type": "code",
      "execution_count": null,
      "id": "after-pizza",
      "metadata": {
        "id": "after-pizza"
      },
      "outputs": [],
      "source": [
        "busi_result = busi_set_gdf[['gid', '풍속업소지수_4']]\n",
        "busi_result"
      ]
    },
    {
      "cell_type": "code",
      "execution_count": null,
      "id": "changed-agent",
      "metadata": {
        "id": "changed-agent"
      },
      "outputs": [],
      "source": [
        "busi_score = busi_set_gdf[['gid', '풍속업소지수_3']]\n",
        "busi_score"
      ]
    },
    {
      "cell_type": "code",
      "execution_count": null,
      "id": "willing-request",
      "metadata": {
        "id": "willing-request"
      },
      "outputs": [],
      "source": [
        "busi_result = busi_score\n",
        "busi_score['풍속업소지수_3'] = busi_score['풍속업소지수_3'] *0.133\n",
        "busi_score"
      ]
    },
    {
      "cell_type": "code",
      "execution_count": null,
      "id": "national-piece",
      "metadata": {
        "id": "national-piece"
      },
      "outputs": [],
      "source": [
        "busi_m = folium.Map(\n",
        "    location = center,\n",
        "    zoom_start=11, \n",
        "    tiles='cartodbpositron'\n",
        ")\n",
        "\n",
        "\n",
        "busi_m.choropleth(geo_data=result_grid_gdf,\n",
        "             data=busi_score,\n",
        "             columns = ['gid', '풍속업소지수_3'],\n",
        "             fill_color='YlOrRd',\n",
        "             key_on='properties.gid',\n",
        "             legend_name=\"풍속 업소 지수\"\n",
        "            )\n",
        "\n",
        "busi_m.save('business_map.html')\n",
        "\n",
        "busi_m"
      ]
    },
    {
      "cell_type": "markdown",
      "id": "aware-thing",
      "metadata": {
        "id": "aware-thing"
      },
      "source": [
        "## 5) 유동 인구 지수"
      ]
    },
    {
      "cell_type": "code",
      "execution_count": null,
      "id": "unable-replacement",
      "metadata": {
        "id": "unable-replacement"
      },
      "outputs": [],
      "source": [
        "moving_gdf = pd.read_csv('김해시_요일별_성연령별_유동인구.csv', encoding = 'utf-8')\n",
        "moving_cell_gdf = pd.read_csv('김해시_유동인구_CELLPOINT.csv', encoding = 'utf-8')"
      ]
    },
    {
      "cell_type": "code",
      "execution_count": null,
      "id": "completed-savings",
      "metadata": {
        "id": "completed-savings"
      },
      "outputs": [],
      "source": [
        "# 일별로 정리되어있는 유동인구 지수를 recordid를 기준으로 그룹화한 후 평균화\n",
        "moving_gdf = moving_gdf.groupby('recordid').mean()\n",
        "\n",
        "# 세대별로 정리되어있는 유동인구지수를 평균화\n",
        "columns = ['m_0009','m_1019','m_2029','m_3039','m_4049','m_5059','m_6069','m_7000','w_0009','w_1019','w_2029','w_3039','w_4049','w_5059','w_6069','w_7000']\n",
        "moving_gdf['id_mean'] = moving_gdf[columns].mean(axis = 1)\n",
        "moving_gdf"
      ]
    },
    {
      "cell_type": "code",
      "execution_count": null,
      "id": "federal-curtis",
      "metadata": {
        "id": "federal-curtis"
      },
      "outputs": [],
      "source": [
        "moving_gdf = moving_gdf[['id_mean']]\n",
        "moving_gdf.reset_index()\n",
        "\n",
        "# 유동인구 정보(moving_gdf)와 grid 정보(moving_cell_gdf)를 recordid를 기준으로 결합\n",
        "moving_gdf = pd.merge(moving_gdf, moving_cell_gdf, on = 'recordid', how = 'inner')\n",
        "moving_gdf"
      ]
    },
    {
      "cell_type": "code",
      "execution_count": null,
      "id": "specified-singapore",
      "metadata": {
        "id": "specified-singapore"
      },
      "outputs": [],
      "source": [
        "moving_gdf = gpd.GeoDataFrame(\n",
        "    moving_gdf, geometry=gpd.points_from_xy(moving_gdf.lon, moving_gdf.lat))\n",
        "moving_gdf = moving_gdf.drop(['lon', 'lat'], axis = 1)\n",
        "moving_gdf"
      ]
    },
    {
      "cell_type": "code",
      "execution_count": null,
      "id": "corporate-creature",
      "metadata": {
        "id": "corporate-creature"
      },
      "outputs": [],
      "source": [
        "# 전처리한 grid data의 multipolygon에 moving_cell의 Point가 포함되는지 여부를 파악해 gid 부여\n",
        "moving_cell_gdf = gpd.sjoin(left_df=result_grid_gdf, right_df=moving_gdf, how='left', op = 'contains') #Join\n",
        "moving_cell_gdf\n"
      ]
    },
    {
      "cell_type": "code",
      "execution_count": null,
      "id": "accomplished-biology",
      "metadata": {
        "id": "accomplished-biology"
      },
      "outputs": [],
      "source": [
        "# 하나의 grid(gid)에 여러개의 recordid가 존재할 수도 있음\n",
        "# gid를 기준으로 recordid를 통합 유동인구 평균화 진행\n",
        "\n",
        "moving_cell_gdf = moving_cell_gdf.drop(['index_right', 'recordid'], axis = 1 )\n",
        "moving_cell_gdf = moving_cell_gdf.groupby('gid').mean()\n",
        "moving_cell_gdf\n",
        "moving_cell_gdf = moving_cell_gdf.fillna(0)"
      ]
    },
    {
      "cell_type": "code",
      "execution_count": null,
      "id": "settled-level",
      "metadata": {
        "id": "settled-level"
      },
      "outputs": [],
      "source": [
        "# MinMaxScaler를 이용 각 grid의 유동인구 지수를 최대-최소정규화 수행\n",
        "transformer = MinMaxScaler()\n",
        "transformer.fit(moving_cell_gdf)\n",
        "\n",
        "moving_cell_scaled_gdf = transformer.transform(moving_cell_gdf)\n",
        "moving_cell_gdf['score'] = moving_cell_scaled_gdf\n",
        "\n",
        "# 0~1 사이로 최대-최소정규화를 수행한 점수에 100을 곱해 100점 만점의 점수로 변환\n",
        "moving_cell_gdf['score'] = moving_cell_gdf['score'] * 100\n",
        "moving_score = moving_cell_gdf.sort_values(by = 'score', ascending = False)\n",
        "moving_score"
      ]
    },
    {
      "cell_type": "code",
      "execution_count": null,
      "id": "confidential-treat",
      "metadata": {
        "id": "confidential-treat"
      },
      "outputs": [],
      "source": [
        "moving_score = pd.merge(moving_score, result_grid_gdf, on = 'gid', how = 'left')\n",
        "moving_score = moving_score.drop(columns = ['id_mean'])\n",
        "moving_score = moving_score"
      ]
    },
    {
      "cell_type": "code",
      "execution_count": null,
      "id": "multiple-anatomy",
      "metadata": {
        "id": "multiple-anatomy"
      },
      "outputs": [],
      "source": [
        "moving_result = moving_score\n",
        "moving_result['score'] = moving_result['score'] * 0.048\n",
        "moving_result = moving_result.drop(columns = ['geometry'])\n",
        "moving_result = moving_result.rename(columns = {'score': '유동인구_지수'})\n",
        "moving_result"
      ]
    },
    {
      "cell_type": "code",
      "execution_count": null,
      "id": "usual-bidding",
      "metadata": {
        "id": "usual-bidding"
      },
      "outputs": [],
      "source": [
        "\n",
        "moving_m = folium.Map(\n",
        "    location= center,\n",
        "    zoom_start=11, \n",
        "    tiles='cartodbpositron'\n",
        ")\n",
        "\n",
        "\n",
        "moving_m.choropleth(geo_data=result_grid_gdf,\n",
        "             data = moving_score,\n",
        "             columns = ['gid', 'score'],\n",
        "             fill_color='YlOrRd', \n",
        "             key_on='properties.gid',\n",
        "             legend_name=\"유동 인구 지수\"\n",
        "            )\n",
        "\n",
        "moving_m.save('moving_map.html')\n",
        "\n",
        "moving_m"
      ]
    },
    {
      "cell_type": "markdown",
      "id": "pending-liabilities",
      "metadata": {
        "id": "pending-liabilities"
      },
      "source": [
        "## 6) 부양 인구 지수"
      ]
    },
    {
      "cell_type": "code",
      "execution_count": null,
      "id": "neural-dependence",
      "metadata": {
        "id": "neural-dependence"
      },
      "outputs": [],
      "source": [
        "popu_gdf = gpd.read_file('10.김해시_성연령별_거주인구격자.geojson')\n",
        "\n",
        "#격자별 인구 수 데이터와 전처리한 격자 결합\n",
        "popu_gdf = pd.merge(popu_gdf, result_grid_gdf, on = 'gid', how = 'inner')\n",
        "\n",
        "# popu_gdf의 열 확인\n",
        "popu_gdf.columns"
      ]
    },
    {
      "cell_type": "code",
      "execution_count": null,
      "id": "frequent-style",
      "metadata": {
        "id": "frequent-style"
      },
      "outputs": [],
      "source": [
        "# 2021년 인구 분포 데이터를 기준으로 상정함\n",
        "# 2021년 전체 나이대의 인구분포 Column 리스트를 total_list\n",
        "# 2021년 부양인구 나이대의 인구분포 Column 리스트를 deppop_list로 선정\n",
        "# 부양인구 : 유소년 인구(0~14세), 고령인구(65세~)이나 계산의 편의를 위해 유소년 인구 0~19세, 고령인구 60세~ 로 상정\n",
        "\n",
        "total_list = ['2021_m_0g_pop',\n",
        "       '2021_w_0g_pop', '2021_m_20g_pop', '2021_w_20g_pop', '2021_m_30g_pop',\n",
        "       '2021_w_30g_pop', '2021_m_40g_pop', '2021_w_40g_pop', '2021_m_50g_pop',\n",
        "       '2021_w_50g_pop', '2021_m_60g_pop', '2021_w_60g_pop', '2021_m_70g_pop',\n",
        "       '2021_w_70g_pop']\n",
        "deppop_list = ['2021_m_0g_pop',\n",
        "       '2021_w_0g_pop', '2021_m_60g_pop', '2021_w_60g_pop', '2021_m_70g_pop',\n",
        "       '2021_w_70g_pop']"
      ]
    },
    {
      "cell_type": "code",
      "execution_count": null,
      "id": "sealed-lloyd",
      "metadata": {
        "id": "sealed-lloyd"
      },
      "outputs": [],
      "source": [
        "popu_gdf['total_pop'] = popu_gdf.loc[:, total_list].sum(axis = 1)\n",
        "\n",
        "# 2021년 grid별 부양 인구수\n",
        "popu_gdf['deppop_list'] = popu_gdf.loc[:, deppop_list].sum(axis = 1)\n",
        "\n",
        "# 부양인구지수 = grid별 부양 인구수 / grid별 전체 인구수\n",
        "popu_gdf['deppop_ratio'] = popu_gdf['deppop_list'] / popu_gdf['total_pop']\n"
      ]
    },
    {
      "cell_type": "code",
      "execution_count": null,
      "id": "unauthorized-inclusion",
      "metadata": {
        "id": "unauthorized-inclusion"
      },
      "outputs": [],
      "source": [
        "# 2021년 grid별 전체 인구수\n",
        "popu_gdf['total_pop'] = popu_gdf.loc[:, total_list].sum(axis = 1)\n",
        "\n",
        "# 2021년 grid별 부양 인구수\n",
        "popu_gdf['deppop_list'] = popu_gdf.loc[:, deppop_list].sum(axis = 1)\n",
        "\n",
        "# 부양인구지수 = grid별 부양 인구수 / grid별 전체 인구수\n",
        "popu_gdf['deppop_ratio'] = popu_gdf['deppop_list'] / popu_gdf['total_pop']\n",
        "\n",
        "# 결측치 대체\n",
        "popu_gdf = popu_gdf.fillna(0)"
      ]
    },
    {
      "cell_type": "code",
      "execution_count": null,
      "id": "sapphire-genetics",
      "metadata": {
        "id": "sapphire-genetics"
      },
      "outputs": [],
      "source": [
        "popu_score = popu_gdf[['gid', 'deppop_ratio']]\n",
        "\n",
        "# 부양인구지수에 100을 곱해 최종 스코어로 계산\n",
        "popu_score['score'] = popu_score['deppop_ratio'] * 100\n",
        "popu_score = popu_score[['gid', 'score']]"
      ]
    },
    {
      "cell_type": "code",
      "execution_count": null,
      "id": "elect-roberts",
      "metadata": {
        "id": "elect-roberts"
      },
      "outputs": [],
      "source": [
        "popu_score"
      ]
    },
    {
      "cell_type": "code",
      "execution_count": null,
      "id": "timely-minute",
      "metadata": {
        "id": "timely-minute"
      },
      "outputs": [],
      "source": [
        "popu_score = pd.merge(popu_score, result_grid_gdf, on = 'gid', how = 'left')\n",
        "popu_score.sort_values(ascending = False, by = 'score')\n"
      ]
    },
    {
      "cell_type": "code",
      "execution_count": null,
      "id": "contemporary-toner",
      "metadata": {
        "id": "contemporary-toner"
      },
      "outputs": [],
      "source": [
        "popu_result = popu_score\n",
        "popu_result['score'] =  popu_result['score'] * 0.013\n",
        "popu_result = popu_result.rename(columns = {'score' : '부양인구지수'})\n",
        "popu_result"
      ]
    },
    {
      "cell_type": "code",
      "execution_count": null,
      "id": "ultimate-template",
      "metadata": {
        "id": "ultimate-template"
      },
      "outputs": [],
      "source": [
        "\n",
        "popu_m = folium.Map(\n",
        "    location= center,\n",
        "    zoom_start=11, \n",
        "    tiles='cartodbpositron'\n",
        ")\n",
        "\n",
        "\n",
        "popu_m.choropleth(geo_data=result_grid_gdf,\n",
        "             data=popu_result,\n",
        "             columns = ['gid', '부양인구지수'],\n",
        "             fill_color='YlOrRd',\n",
        "             key_on='properties.gid',\n",
        "             legend_name=\"부양 인구 지수\"\n",
        "            )\n",
        "\n",
        "popu_m.save('popu_map.html')\n",
        "\n",
        "popu_m"
      ]
    },
    {
      "cell_type": "markdown",
      "id": "scheduled-brain",
      "metadata": {
        "id": "scheduled-brain"
      },
      "source": [
        "## 7) 외국인 위험 지수"
      ]
    },
    {
      "cell_type": "code",
      "execution_count": null,
      "id": "careful-turning",
      "metadata": {
        "id": "careful-turning"
      },
      "outputs": [],
      "source": [
        "for_gdf = gpd.read_file('11.김해시_외국인_읍면동별_격자.geojson')\n",
        "for_gdf = pd.merge(for_gdf, result_grid_gdf, on = 'gid', how = 'inner')\n",
        "for_gdf = for_gdf.drop(columns = ['geometry_y'])"
      ]
    },
    {
      "cell_type": "code",
      "execution_count": null,
      "id": "opposed-garlic",
      "metadata": {
        "id": "opposed-garlic"
      },
      "outputs": [],
      "source": [
        "index_list = ['2018_foreigner_pop', '2019_foreigner_pop', '2020_foreigner_pop', '2021_foreigner_pop']\n",
        "for_gdf[index_list] = for_gdf[index_list].fillna(0).astype(float)\n",
        "for_gdf['foreigner_pop_mean'] = for_gdf[index_list].mean(axis = 1)\n",
        "for_gdf"
      ]
    },
    {
      "cell_type": "code",
      "execution_count": null,
      "id": "current-syndrome",
      "metadata": {
        "id": "current-syndrome"
      },
      "outputs": [],
      "source": [
        "transformer = MinMaxScaler()\n",
        "transformer.fit(for_gdf[['foreigner_pop_mean']])\n",
        "transformed_X = transformer.transform(for_gdf[['foreigner_pop_mean']])\n",
        "transformed_X\n",
        "for_gdf['foreigner_score'] = transformed_X * 100\n",
        "for_gdf"
      ]
    },
    {
      "cell_type": "code",
      "execution_count": null,
      "id": "above-development",
      "metadata": {
        "id": "above-development"
      },
      "outputs": [],
      "source": [
        "for_score = for_gdf[['gid', 'foreigner_score']]\n",
        "for_score = pd.merge(for_score, result_grid_gdf, on = 'gid', how = 'left')\n",
        "for_score.sort_values(ascending = False, by = 'foreigner_score')"
      ]
    },
    {
      "cell_type": "code",
      "execution_count": null,
      "id": "tribal-fellow",
      "metadata": {
        "id": "tribal-fellow"
      },
      "outputs": [],
      "source": [
        "for_result = for_score[['gid', 'foreigner_score']]\n",
        "for_result['foreigner_score'] = for_result['foreigner_score'] * 0.022\n",
        "for_result.rename(columns = {\"Foreigner_score\" : \"외국인 위험 지수\"})"
      ]
    },
    {
      "cell_type": "code",
      "execution_count": null,
      "id": "second-brass",
      "metadata": {
        "id": "second-brass"
      },
      "outputs": [],
      "source": [
        "for_result = for_result.rename(columns = {\"foreigner_score\" : \"외국인 위험 지수\"})\n",
        "for_result"
      ]
    },
    {
      "cell_type": "code",
      "execution_count": null,
      "id": "united-wrong",
      "metadata": {
        "id": "united-wrong"
      },
      "outputs": [],
      "source": [
        "for_m = folium.Map(\n",
        "    location= center,\n",
        "    zoom_start=11, \n",
        "    tiles='cartodbpositron'\n",
        ")\n",
        "\n",
        "\n",
        "for_m.choropleth(geo_data=result_grid_gdf,\n",
        "             data=for_score,\n",
        "             columns = ['gid', 'foreigner_score'],\n",
        "             fill_color='YlOrRd',\n",
        "             key_on='properties.gid',\n",
        "             legend_name=\"외국인 지수\"\n",
        "            )\n",
        "\n",
        "for_m.save('foreigner_map.html')\n",
        "\n",
        "for_m"
      ]
    },
    {
      "cell_type": "markdown",
      "id": "arctic-league",
      "metadata": {
        "id": "arctic-league"
      },
      "source": [
        "## 8) 건물 특성 지수"
      ]
    },
    {
      "cell_type": "code",
      "execution_count": null,
      "id": "dental-colon",
      "metadata": {
        "id": "dental-colon"
      },
      "outputs": [],
      "source": [
        "build_tmp_gdf = gpd.read_file('12.김해시_건물노후도.geojson')\n",
        "build_gdf = build_tmp_gdf.copy()\n",
        "build_gdf"
      ]
    },
    {
      "cell_type": "code",
      "execution_count": null,
      "id": "municipal-marble",
      "metadata": {
        "id": "municipal-marble"
      },
      "outputs": [],
      "source": [
        "build_gdf['OLD_LEVEL'].unique()"
      ]
    },
    {
      "cell_type": "code",
      "execution_count": null,
      "id": "straight-atlantic",
      "metadata": {
        "id": "straight-atlantic"
      },
      "outputs": [],
      "source": [
        "build_set_gdf = gpd.sjoin(result_grid_gdf2, build_gdf,  how='left', op='intersects')\n",
        "build_set_gdf = build_set_gdf.groupby('gid')['OLD_LEVEL'].agg(['sum'])\n",
        "build_set_gdf = build_set_gdf[build_set_gdf['sum'] > 0]\n",
        "build_set_gdf"
      ]
    },
    {
      "cell_type": "code",
      "execution_count": null,
      "id": "violent-employer",
      "metadata": {
        "id": "violent-employer"
      },
      "outputs": [],
      "source": [
        "build_set_gdf = pd.merge(build_set_gdf, result_grid_gdf, how = 'right', on = 'gid')\n",
        "build_set_gdf = build_set_gdf.fillna(0)\n",
        "build_set_gdf"
      ]
    },
    {
      "cell_type": "code",
      "execution_count": null,
      "id": "reduced-three",
      "metadata": {
        "id": "reduced-three"
      },
      "outputs": [],
      "source": [
        "build_set_gdf['건물특성지수_1'] = (build_set_gdf['sum'] - build_set_gdf['sum'].min()) / (build_set_gdf['sum'].max() - build_set_gdf['sum'].min())\n",
        "build_set_gdf['건물특성지수_2'] = build_set_gdf['건물특성지수_1'] * 100\n",
        "build_set_gdf['건물특성지수_3'] = build_set_gdf['건물특성지수_2'] * 0.064\n",
        "build_set_gdf = build_set_gdf.sort_values(by = ['건물특성지수_3'], ascending = False)\n",
        "build_set_gdf"
      ]
    },
    {
      "cell_type": "code",
      "execution_count": null,
      "id": "dominican-mauritius",
      "metadata": {
        "id": "dominican-mauritius"
      },
      "outputs": [],
      "source": [
        "build_result = build_set_gdf[['gid', '건물특성지수_3']]\n",
        "build_result"
      ]
    },
    {
      "cell_type": "code",
      "execution_count": null,
      "id": "sealed-joshua",
      "metadata": {
        "id": "sealed-joshua"
      },
      "outputs": [],
      "source": [
        "build_score = build_set_gdf[['gid', '건물특성지수_2']]\n",
        "build_score"
      ]
    },
    {
      "cell_type": "code",
      "execution_count": null,
      "id": "rapid-membrane",
      "metadata": {
        "id": "rapid-membrane"
      },
      "outputs": [],
      "source": [
        "result_grid_gdf"
      ]
    },
    {
      "cell_type": "code",
      "execution_count": null,
      "id": "proper-dodge",
      "metadata": {
        "id": "proper-dodge"
      },
      "outputs": [],
      "source": [
        "building_m = folium.Map(\n",
        "    location= center,\n",
        "    zoom_start=11, \n",
        "    tiles='cartodbpositron'\n",
        ")\n",
        "\n",
        "\n",
        "building_m.choropleth(geo_data=result_grid_gdf,\n",
        "             data=build_score,\n",
        "             columns = ['gid', '건물특성지수_2'],\n",
        "             fill_color='YlOrRd',\n",
        "             key_on='properties.gid',\n",
        "             legend_name=\"건물 특성 지수\"\n",
        "            )\n",
        "\n",
        "building_m.save('Building_map.html')\n",
        "\n",
        "building_m"
      ]
    },
    {
      "cell_type": "markdown",
      "id": "antique-canvas",
      "metadata": {
        "id": "antique-canvas"
      },
      "source": [
        "## 9) 아동 시설 지수"
      ]
    },
    {
      "cell_type": "code",
      "execution_count": null,
      "id": "written-animal",
      "metadata": {
        "id": "written-animal"
      },
      "outputs": [],
      "source": [
        "# result_grid_gdf2['center'] = result_grid_gdf2['geometry'].centroid\n",
        "result_grid_gdf2['center'] = result_grid_gdf2.geometry.centroid\n",
        "result_grid_gdf2 = result_grid_gdf2.drop_duplicates()\n",
        "result_grid_gdf2"
      ]
    },
    {
      "cell_type": "code",
      "execution_count": null,
      "id": "crude-provider",
      "metadata": {
        "id": "crude-provider"
      },
      "outputs": [],
      "source": [
        "child_tmp_df = pd.read_csv('18.김해시_유치원현황.csv')\n",
        "child_df = child_tmp_df.copy()\n",
        "\n",
        "child_gdf = gpd.GeoDataFrame(\n",
        "    child_df, geometry=gpd.points_from_xy(child_df.lon, child_df.lat))\n",
        "\n",
        "child_gdf"
      ]
    },
    {
      "cell_type": "code",
      "execution_count": null,
      "id": "confirmed-congress",
      "metadata": {
        "id": "confirmed-congress"
      },
      "outputs": [],
      "source": [
        "child_set_gdf = gpd.sjoin(result_grid_gdf2, child_gdf,  how='left', op='intersects')\n",
        "child_set_gdf = child_set_gdf.dropna(axis=0)\n",
        "child_set_gdf = child_set_gdf[['gid', 'center', 'fac_nm']]\n",
        "child_set_gdf = pd.merge(child_set_gdf, child_gdf, how = 'left')\n",
        "child_set_gdf = child_set_gdf[['gid', 'center', 'fac_nm', 'geometry']]\n",
        "child_set_gdf"
      ]
    },
    {
      "cell_type": "code",
      "execution_count": null,
      "id": "infectious-angola",
      "metadata": {
        "id": "infectious-angola"
      },
      "outputs": [],
      "source": [
        "child_set_gdf['child_dist'] = 0\n",
        "\n",
        "for i in range(0, 32):\n",
        "    dist = child_set_gdf['center'].loc[i].distance(child_set_gdf['geometry'].loc[i])\n",
        "    child_set_gdf['child_dist'].loc[i] = dist\n",
        "\n",
        "child_set_gdf = child_set_gdf[['gid', 'fac_nm','child_dist']]\n",
        "child_dist_gdf = child_set_gdf\n",
        "child_dist_gdf"
      ]
    },
    {
      "cell_type": "code",
      "execution_count": null,
      "id": "documentary-cisco",
      "metadata": {
        "id": "documentary-cisco"
      },
      "outputs": [],
      "source": [
        "kid_tmp_df = pd.read_csv('17.김해시_어린이집현황.csv')\n",
        "kid_df = kid_tmp_df.copy()\n",
        "\n",
        "kid_gdf = gpd.GeoDataFrame(\n",
        "    kid_df, geometry=gpd.points_from_xy(kid_df.lon, kid_df.lat))\n",
        "\n",
        "kid_gdf = kid_gdf[kid_gdf['oper_status'] != '폐지']\n",
        "kid_gdf"
      ]
    },
    {
      "cell_type": "code",
      "execution_count": null,
      "id": "discrete-proof",
      "metadata": {
        "id": "discrete-proof"
      },
      "outputs": [],
      "source": [
        "kid_set_gdf = gpd.sjoin(result_grid_gdf2, kid_gdf,  how='left', op='intersects')\n",
        "kid_set_gdf = kid_set_gdf[['gid', 'center', 'fac_nm']]\n",
        "kid_set_gdf = kid_set_gdf.dropna(axis=0)\n",
        "kid_set_gdf = pd.merge(kid_set_gdf, kid_gdf, how = 'left')\n",
        "kid_set_gdf = kid_set_gdf[['gid', 'center', 'fac_nm', 'geometry']]\n",
        "kid_set_gdf"
      ]
    },
    {
      "cell_type": "code",
      "execution_count": null,
      "id": "beginning-rugby",
      "metadata": {
        "id": "beginning-rugby"
      },
      "outputs": [],
      "source": [
        "kid_set_gdf['kid_dist'] = 0\n",
        "\n",
        "for i in range(0, 276):\n",
        "    dist = kid_set_gdf['center'].loc[i].distance(kid_set_gdf['geometry'].loc[i])\n",
        "    kid_set_gdf['kid_dist'].loc[i] = dist\n",
        "\n",
        "kid_set_gdf = kid_set_gdf[['gid', 'fac_nm','kid_dist']]\n",
        "kid_dist_gdf = kid_set_gdf\n",
        "kid_dist_gdf"
      ]
    },
    {
      "cell_type": "code",
      "execution_count": null,
      "id": "southwest-promotion",
      "metadata": {
        "id": "southwest-promotion"
      },
      "outputs": [],
      "source": [
        "stu_tmp_df = pd.read_csv('19.김해시_학교(초,중,고)현황.csv')\n",
        "stu_df = stu_tmp_df.copy()\n",
        "\n",
        "stu_gdf = gpd.GeoDataFrame(\n",
        "    stu_df, geometry=gpd.points_from_xy(stu_df.lon, stu_df.lat))\n",
        "\n",
        "stu_gdf"
      ]
    },
    {
      "cell_type": "code",
      "execution_count": null,
      "id": "certified-wisdom",
      "metadata": {
        "id": "certified-wisdom"
      },
      "outputs": [],
      "source": [
        "stu_set_gdf = gpd.sjoin(result_grid_gdf2, stu_gdf,  how='left', op='intersects')\n",
        "stu_set_gdf = stu_set_gdf[['gid', 'center', 'school_nm']]\n",
        "stu_set_gdf = stu_set_gdf.dropna(axis=0)\n",
        "stu_set_gdf = pd.merge(stu_set_gdf, stu_gdf, how = 'left')\n",
        "stu_set_gdf = stu_set_gdf[['gid', 'center', 'school_nm', 'geometry']]\n",
        "stu_set_gdf"
      ]
    },
    {
      "cell_type": "code",
      "execution_count": null,
      "id": "infinite-notification",
      "metadata": {
        "id": "infinite-notification"
      },
      "outputs": [],
      "source": [
        "stu_set_gdf['stu_dist'] = 0\n",
        "\n",
        "for i in range(0, 20):\n",
        "    dist = stu_set_gdf['center'].loc[i].distance(stu_set_gdf['geometry'].loc[i])\n",
        "    stu_set_gdf['stu_dist'].loc[i] = dist\n",
        "\n",
        "stu_set_gdf = stu_set_gdf[['gid', 'school_nm','stu_dist']]\n",
        "stu_dist_gdf = stu_set_gdf\n",
        "stu_dist_gdf"
      ]
    },
    {
      "cell_type": "code",
      "execution_count": null,
      "id": "nuclear-textbook",
      "metadata": {
        "id": "nuclear-textbook"
      },
      "outputs": [],
      "source": [
        "children_set_gdf = pd.concat([child_dist_gdf, kid_dist_gdf], ignore_index=True)\n",
        "children_set_gdf = pd.concat([children_set_gdf, stu_dist_gdf], ignore_index=True)\n",
        "children_set_gdf = children_set_gdf[['gid', 'child_dist', 'kid_dist', 'stu_dist']]\n",
        "children_set_gdf = children_set_gdf.fillna(0)\n",
        "children_set_gdf['dist_total'] = children_set_gdf['child_dist'] + children_set_gdf['kid_dist'] + children_set_gdf['stu_dist']\n",
        "children_set_gdf = children_set_gdf.groupby(['gid'])['dist_total'].agg(['mean'])\n",
        "children_set_gdf"
      ]
    },
    {
      "cell_type": "code",
      "execution_count": null,
      "id": "through-university",
      "metadata": {
        "id": "through-university"
      },
      "outputs": [],
      "source": [
        "set_gdf = pd.merge(child_set_gdf, result_grid_gdf2, how = 'right', on = 'gid')\n",
        "set_gdf = set_gdf.fillna(0)\n",
        "set_gdf"
      ]
    },
    {
      "cell_type": "code",
      "execution_count": null,
      "id": "golden-aggregate",
      "metadata": {
        "id": "golden-aggregate"
      },
      "outputs": [],
      "source": [
        "children_set_gdf['아동시설지수_1'] = (children_set_gdf['mean'] - children_set_gdf['mean'].min()) / (children_set_gdf['mean'].max() - children_set_gdf['mean'].min())\n",
        "children_set_gdf['아동시설지수_2'] = children_set_gdf['아동시설지수_1']*100\n",
        "children_set_gdf['아동시설지수_3'] = children_set_gdf['아동시설지수_2'] - 100\n",
        "children_set_gdf['아동시설지수_4'] = children_set_gdf['아동시설지수_3']*(-1)\n",
        "children_set_gdf['아동시설지수_5'] = children_set_gdf['아동시설지수_4']*0.03\n",
        "children_set_gdf = children_set_gdf.sort_values(by = ['아동시설지수_5'], ascending = False)\n",
        "children_set_gdf = children_set_gdf.reset_index()\n",
        "children_set_gdf"
      ]
    },
    {
      "cell_type": "code",
      "execution_count": null,
      "id": "bulgarian-target",
      "metadata": {
        "id": "bulgarian-target"
      },
      "outputs": [],
      "source": [
        "kid_result = children_set_gdf[['gid', '아동시설지수_5']]\n",
        "kid_result = gpd.GeoDataFrame(kid_result)\n",
        "kid_result = kid_result.reset_index()\n",
        "kid_result = pd.merge(result_grid_gdf, kid_result, on = 'gid', how = 'left')\n",
        "kid_result"
      ]
    },
    {
      "cell_type": "code",
      "execution_count": null,
      "id": "judicial-pollution",
      "metadata": {
        "id": "judicial-pollution"
      },
      "outputs": [],
      "source": [
        "kid_result = kid_result[['gid', '아동시설지수_5']]\n",
        "kid_result = kid_result.fillna(0)\n",
        "kid_result"
      ]
    },
    {
      "cell_type": "code",
      "execution_count": null,
      "id": "hawaiian-advertising",
      "metadata": {
        "id": "hawaiian-advertising"
      },
      "outputs": [],
      "source": [
        "kid_score = children_set_gdf[['gid','아동시설지수_4']]\n",
        "kid_score = pd.merge(result_grid_gdf, kid_score, on = 'gid', how = 'left')\n",
        "kid_score"
      ]
    },
    {
      "cell_type": "code",
      "execution_count": null,
      "id": "front-multiple",
      "metadata": {
        "id": "front-multiple"
      },
      "outputs": [],
      "source": [
        "backup = backup.drop(columns = ['center'])"
      ]
    },
    {
      "cell_type": "code",
      "execution_count": null,
      "id": "amazing-concrete",
      "metadata": {
        "id": "amazing-concrete"
      },
      "outputs": [],
      "source": [
        "kid_m = folium.Map(\n",
        "    location= center,\n",
        "    zoom_start=11, \n",
        "    tiles='cartodbpositron'\n",
        ")\n",
        "\n",
        "\n",
        "kid_m.choropleth(geo_data=backup,\n",
        "             data=kid_score,\n",
        "             columns = ['gid', '아동시설지수_4'],\n",
        "             fill_color='YlOrRd',\n",
        "             key_on='properties.gid',\n",
        "             legend_name=\"아동 시설 지수\"\n",
        "            )\n",
        "\n",
        "kid_m.save('kid_map.html')\n",
        "\n",
        "kid_m"
      ]
    },
    {
      "cell_type": "markdown",
      "id": "southern-queens",
      "metadata": {
        "id": "southern-queens"
      },
      "source": [
        "## 10) 공적 감시 취약 지수"
      ]
    },
    {
      "cell_type": "code",
      "execution_count": null,
      "id": "nominated-functionality",
      "metadata": {
        "id": "nominated-functionality"
      },
      "outputs": [],
      "source": [
        "police_sta_gdf = pd.read_excel('경찰청_경찰관서 위치, 주소 위경도 현황_20210924.xlsx')\n",
        "police_sta_gdf"
      ]
    },
    {
      "cell_type": "code",
      "execution_count": null,
      "id": "innocent-brisbane",
      "metadata": {
        "id": "innocent-brisbane"
      },
      "outputs": [],
      "source": [
        "police_w_gdf = police_sta_gdf[police_sta_gdf.경찰서 == '김해서부']\n",
        "police_c_gdf = police_sta_gdf[police_sta_gdf.경찰서 == '김해중부']\n",
        "police_gdf = pd.concat([police_w_gdf, police_c_gdf])\n",
        "police_gdf\n",
        "\n",
        "police_gdf = gpd.GeoDataFrame(\n",
        "    police_gdf, geometry=gpd.points_from_xy(police_gdf.Longitude, police_gdf.Latitude))\n",
        "police_gdf = police_gdf.drop(['Longitude', 'Latitude'], axis = 1)\n",
        "police_gdf"
      ]
    },
    {
      "cell_type": "code",
      "execution_count": null,
      "id": "encouraging-venture",
      "metadata": {
        "id": "encouraging-venture"
      },
      "outputs": [],
      "source": [
        "police_state = result_grid_gdf\n",
        "police_state"
      ]
    },
    {
      "cell_type": "code",
      "execution_count": null,
      "id": "boring-hurricane",
      "metadata": {
        "id": "boring-hurricane"
      },
      "outputs": [],
      "source": [
        "police_state['centroid'] = police_state['geometry'].centroid\n",
        "police_state"
      ]
    },
    {
      "cell_type": "code",
      "execution_count": null,
      "id": "antique-drunk",
      "metadata": {
        "id": "antique-drunk"
      },
      "outputs": [],
      "source": [
        "for grid_index in police_state.index:\n",
        "    minimum = 1000000000000\n",
        "    for police_index in police_gdf.index:\n",
        "        dist = police_gdf.loc[police_index, 'geometry'].distance(police_state.loc[grid_index, 'centroid'])\n",
        "        if minimum > dist:\n",
        "            minimum = dist\n",
        "        else:\n",
        "            pass\n",
        "    police_state.loc[grid_index, 'minimum'] = minimum    \n",
        "    \n",
        "police_state"
      ]
    },
    {
      "cell_type": "code",
      "execution_count": null,
      "id": "cheap-bargain",
      "metadata": {
        "id": "cheap-bargain"
      },
      "outputs": [],
      "source": [
        "police_dist_score = police_state\n",
        "police_dist_score[['gid', 'minimum']].sort_values(by = 'minimum', ascending = False)\n",
        "police_dist_score['minimum']"
      ]
    },
    {
      "cell_type": "code",
      "execution_count": null,
      "id": "irish-mandate",
      "metadata": {
        "id": "irish-mandate"
      },
      "outputs": [],
      "source": [
        "transformer = MinMaxScaler()\n",
        "transformer.fit(police_dist_score[['minimum']])\n",
        "transformed_X = transformer.transform(police_dist_score[['minimum']])"
      ]
    },
    {
      "cell_type": "code",
      "execution_count": null,
      "id": "reported-richardson",
      "metadata": {
        "id": "reported-richardson"
      },
      "outputs": [],
      "source": [
        "police_dist_score['police_score'] = transformed_X * 100\n",
        "police_dist_score.sort_values(by = 'police_score', ascending = False)"
      ]
    },
    {
      "cell_type": "code",
      "execution_count": null,
      "id": "interim-applicant",
      "metadata": {
        "id": "interim-applicant"
      },
      "outputs": [],
      "source": [
        "police_score = police_dist_score[['gid','police_score']]\n",
        "police_score.sort_values(by='police_score', ascending = False)"
      ]
    },
    {
      "cell_type": "code",
      "execution_count": null,
      "id": "decimal-sudan",
      "metadata": {
        "id": "decimal-sudan"
      },
      "outputs": [],
      "source": [
        "police_result = police_score\n",
        "police_result['police_score'] = police_result['police_score'] * 0.073\n",
        "police_result = police_result.rename(columns = {'police_score':'공적감시취약지수'})\n",
        "police_result"
      ]
    },
    {
      "cell_type": "code",
      "execution_count": null,
      "id": "driven-texture",
      "metadata": {
        "id": "driven-texture"
      },
      "outputs": [],
      "source": [
        "police_state = police_state.drop(columns = ['centroid', 'minimum'])\n",
        "police_state"
      ]
    },
    {
      "cell_type": "code",
      "execution_count": null,
      "id": "analyzed-protein",
      "metadata": {
        "id": "analyzed-protein"
      },
      "outputs": [],
      "source": [
        "police_m = folium.Map(\n",
        "    location = center,\n",
        "    zoom_start=11, \n",
        "    tiles='cartodbpositron'\n",
        ")\n",
        "\n",
        "\n",
        "police_m.choropleth(geo_data=backup,\n",
        "             data=police_score,\n",
        "             columns = ['gid', 'police_score'],\n",
        "             fill_color='YlOrRd',\n",
        "             key_on='properties.gid',\n",
        "             legend_name=\"공적감시취약지수\"\n",
        "            )\n",
        "\n",
        "police_m.save('police_map.html')\n",
        "\n",
        "police_m"
      ]
    },
    {
      "cell_type": "markdown",
      "id": "indie-rehabilitation",
      "metadata": {
        "id": "indie-rehabilitation"
      },
      "source": [
        "## 11) 대체 감시 취약 지수"
      ]
    },
    {
      "cell_type": "code",
      "execution_count": null,
      "id": "crazy-silver",
      "metadata": {
        "id": "crazy-silver"
      },
      "outputs": [],
      "source": [
        "security_gdf = pd.read_csv('6.김해시_보안등설치현황.csv')\n",
        "security_gdf.sort_values(by ='securitylight_cnt', ascending =False)"
      ]
    },
    {
      "cell_type": "code",
      "execution_count": null,
      "id": "plastic-utility",
      "metadata": {
        "id": "plastic-utility"
      },
      "outputs": [],
      "source": [
        "security_gdf = security_gdf.drop(columns = ['emd_nm', 'address', 'year'])\n",
        "security_gdf = gpd.GeoDataFrame(\n",
        "    security_gdf, geometry=gpd.points_from_xy(security_gdf.lon, security_gdf.lat))\n",
        "security_gdf"
      ]
    },
    {
      "cell_type": "code",
      "execution_count": null,
      "id": "hearing-formula",
      "metadata": {
        "id": "hearing-formula"
      },
      "outputs": [],
      "source": [
        "security_gdf = gpd.sjoin(security_gdf, backup, how = 'left', op = 'within')\n",
        "security_gdf"
      ]
    },
    {
      "cell_type": "code",
      "execution_count": null,
      "id": "heavy-creek",
      "metadata": {
        "id": "heavy-creek"
      },
      "outputs": [],
      "source": [
        "security_gdf = security_gdf.dropna(subset = ['gid'])\n",
        "security_gdf"
      ]
    },
    {
      "cell_type": "code",
      "execution_count": null,
      "id": "romance-warrant",
      "metadata": {
        "id": "romance-warrant"
      },
      "outputs": [],
      "source": [
        "security_gdf = security_gdf.groupby('gid').sum()\n",
        "security_gdf = security_gdf.drop(columns = ['lat','lon','index_right'])\n",
        "security_gdf.sort_values(by = 'securitylight_cnt', ascending = False)"
      ]
    },
    {
      "cell_type": "code",
      "execution_count": null,
      "id": "adult-freight",
      "metadata": {
        "id": "adult-freight"
      },
      "outputs": [],
      "source": [
        "security_gdf = pd.merge(security_gdf, backup, how = 'outer', on = 'gid')\n",
        "security_gdf = security_gdf.fillna(0)\n",
        "security_gdf['security_ratio']  = 1 - (security_gdf['securitylight_cnt'] / security_gdf['securitylight_cnt'].sum())\n",
        "security_gdf"
      ]
    },
    {
      "cell_type": "code",
      "execution_count": null,
      "id": "veterinary-proxy",
      "metadata": {
        "id": "veterinary-proxy"
      },
      "outputs": [],
      "source": [
        "security_score = security_gdf[['gid', 'securitylight_cnt', 'security_ratio']]\n",
        "security_score"
      ]
    },
    {
      "cell_type": "code",
      "execution_count": null,
      "id": "instrumental-purple",
      "metadata": {
        "id": "instrumental-purple"
      },
      "outputs": [],
      "source": [
        "transformer = MinMaxScaler()\n",
        "transformer.fit(security_score[['security_ratio']])\n",
        "transformed_X = transformer.transform(security_score[['security_ratio']])\n",
        "security_score['security_score'] = transformed_X * 100\n",
        "security_score.sort_values(by = 'security_score', ascending = False)"
      ]
    },
    {
      "cell_type": "code",
      "execution_count": null,
      "id": "narrow-blink",
      "metadata": {
        "id": "narrow-blink"
      },
      "outputs": [],
      "source": [
        "security_result = security_score[['gid','security_score']]\n",
        "security_result['security_score'] = security_result['security_score'] * 0.058\n",
        "security_result = security_result.rename(columns = {'security_score' : '대체감시취약지수'})\n",
        "security_result"
      ]
    },
    {
      "cell_type": "code",
      "execution_count": null,
      "id": "colored-healing",
      "metadata": {
        "id": "colored-healing"
      },
      "outputs": [],
      "source": [
        "security_m = folium.Map(\n",
        "    location= center,\n",
        "    zoom_start=11, \n",
        "    tiles='cartodbpositron'\n",
        ")\n",
        "\n",
        "\n",
        "security_m.choropleth(geo_data=backup,\n",
        "             data=security_score,\n",
        "             columns = ['gid', 'security_score'],\n",
        "             fill_color='YlOrRd',\n",
        "             key_on='properties.gid',\n",
        "             legend_name=\"대체감시시설지수\"\n",
        "            )\n",
        "\n",
        "security_m.save('security_map.html')\n",
        "\n",
        "security_m"
      ]
    },
    {
      "cell_type": "markdown",
      "id": "generic-carpet",
      "metadata": {
        "id": "generic-carpet"
      },
      "source": [
        "## 12) 최종 우선 설치 지수 등급화"
      ]
    },
    {
      "cell_type": "code",
      "execution_count": null,
      "id": "civil-probe",
      "metadata": {
        "id": "civil-probe"
      },
      "outputs": [],
      "source": [
        "final_result = pd.merge(cctv_result, call_result, how = 'inner', on = 'gid')\n",
        "final_result = pd.merge(final_result, busi_result, how = 'inner', on = 'gid')\n",
        "final_result = pd.merge(final_result, moving_result, how = 'inner', on = 'gid')\n",
        "final_result = pd.merge(final_result, for_result, how = 'inner', on = 'gid')\n",
        "final_result = pd.merge(final_result, build_result, how = 'inner', on = 'gid')\n",
        "final_result = pd.merge(final_result, kid_result, how = 'inner', on = 'gid')\n",
        "final_result = pd.merge(final_result, popu_result, how = 'inner', on = 'gid')\n",
        "final_result = pd.merge(final_result, police_result, how = 'inner', on = 'gid')\n",
        "final_result = pd.merge(final_result, security_result, how = 'inner', on = 'gid')\n",
        "final_result"
      ]
    },
    {
      "cell_type": "code",
      "execution_count": null,
      "id": "important-devon",
      "metadata": {
        "id": "important-devon"
      },
      "outputs": [],
      "source": [
        "list = ['감시취약지수_4','범죄발생지수_3','풍속업소지수_3','유동인구_지수','외국인 위험 지수','건물특성지수_3','아동시설지수_5','부양인구지수','공적감시취약지수','대체감시취약지수']"
      ]
    },
    {
      "cell_type": "code",
      "execution_count": null,
      "id": "arranged-desert",
      "metadata": {
        "id": "arranged-desert"
      },
      "outputs": [],
      "source": [
        "final_result[list].astype(float)"
      ]
    },
    {
      "cell_type": "code",
      "execution_count": null,
      "id": "secure-reservoir",
      "metadata": {
        "id": "secure-reservoir"
      },
      "outputs": [],
      "source": [
        "final_result['sum'] = final_result[list].sum(axis = 1)\n",
        "final_result.sort_values(by='sum', ascending = False)"
      ]
    },
    {
      "cell_type": "code",
      "execution_count": null,
      "id": "alternate-circus",
      "metadata": {
        "id": "alternate-circus"
      },
      "outputs": [],
      "source": [
        "final_result"
      ]
    },
    {
      "cell_type": "code",
      "execution_count": null,
      "id": "afraid-covering",
      "metadata": {
        "id": "afraid-covering"
      },
      "outputs": [],
      "source": [
        "finale = final_result[['gid','sum']]\n",
        "finale"
      ]
    },
    {
      "cell_type": "code",
      "execution_count": null,
      "id": "contained-producer",
      "metadata": {
        "id": "contained-producer"
      },
      "outputs": [],
      "source": [
        "result_grid_gdf = result_grid_gdf.drop(columns = ['center', 'police_score'])"
      ]
    },
    {
      "cell_type": "code",
      "execution_count": null,
      "id": "separated-connecticut",
      "metadata": {
        "id": "separated-connecticut"
      },
      "outputs": [],
      "source": [
        "finale"
      ]
    },
    {
      "cell_type": "markdown",
      "id": "assigned-buying",
      "metadata": {
        "id": "assigned-buying"
      },
      "source": [
        "### 최종 지수 시각화"
      ]
    },
    {
      "cell_type": "code",
      "execution_count": null,
      "id": "actual-civilization",
      "metadata": {
        "id": "actual-civilization"
      },
      "outputs": [],
      "source": [
        "final_m = folium.Map(\n",
        "    location= center,\n",
        "    zoom_start=11, \n",
        "    tiles='cartodbpositron'\n",
        ")\n",
        "\n",
        "\n",
        "final_m.choropleth(geo_data=backup,\n",
        "             data=finale,\n",
        "             columns = ['gid', 'sum'],\n",
        "             fill_color='YlOrRd',\n",
        "             key_on='properties.gid',\n",
        "             legend_name=\"최종 지수\"\n",
        "            )\n",
        "\n",
        "final_m.save('final_map.html')\n",
        "\n",
        "final_m"
      ]
    },
    {
      "cell_type": "markdown",
      "id": "variable-group",
      "metadata": {
        "id": "variable-group"
      },
      "source": [
        "## CCTV 설치 우선지역 상위 50개소 산출"
      ]
    },
    {
      "cell_type": "code",
      "execution_count": null,
      "id": "saving-discretion",
      "metadata": {
        "id": "saving-discretion"
      },
      "outputs": [],
      "source": [
        "final_top50 = final_result[['gid','sum']].sort_values(by='sum', ascending = False).head(50)\n",
        "final_50_grid_gdf = pd.merge(result_grid_gdf, final_top50, how = 'right', on = 'gid')\n",
        "final_50_grid_gdf = final_50_grid_gdf.drop(columns = ['centroid', 'minimum'])\n",
        "final_50_grid_gdf"
      ]
    },
    {
      "cell_type": "code",
      "execution_count": null,
      "id": "owned-underground",
      "metadata": {
        "id": "owned-underground"
      },
      "outputs": [],
      "source": [
        "final_50_m = folium.Map(\n",
        "    location= center,\n",
        "    zoom_start=11, \n",
        "    tiles='cartodbpositron'\n",
        ")\n",
        "\n",
        "\n",
        "final_50_m.choropleth(geo_data=final_50_grid_gdf,\n",
        "             data=final_top50,\n",
        "             columns = ['gid', 'sum'],\n",
        "             fill_color='YlOrRd',\n",
        "             key_on='properties.gid',\n",
        "             legend_name=\"최종 지수\"\n",
        "            )\n",
        "\n",
        "final_50_m.save('final_50_map.html')\n",
        "\n",
        "final_50_m"
      ]
    },
    {
      "cell_type": "markdown",
      "id": "hairy-belize",
      "metadata": {
        "id": "hairy-belize"
      },
      "source": [
        "## CCTV 우선설치 지역 Top 5 도출"
      ]
    },
    {
      "cell_type": "code",
      "execution_count": null,
      "id": "dutch-announcement",
      "metadata": {
        "id": "dutch-announcement"
      },
      "outputs": [],
      "source": [
        "final_top5 = final_result[['gid','sum']].sort_values(by='sum', ascending = False).head(5)\n",
        "final_5_grid_gdf = pd.merge(result_grid_gdf, final_top5, how = 'right', on = 'gid')\n",
        "final_5_grid_gdf = final_5_grid_gdf.drop(columns = ['centroid', 'minimum'])\n",
        "final_5_grid_gdf"
      ]
    },
    {
      "cell_type": "code",
      "execution_count": null,
      "id": "listed-woman",
      "metadata": {
        "id": "listed-woman"
      },
      "outputs": [],
      "source": [
        "final_5_m = folium.Map(\n",
        "    location= center,\n",
        "    zoom_start=11, \n",
        "    tiles='cartodbpositron'\n",
        ")\n",
        "\n",
        "\n",
        "final_5_m.choropleth(geo_data=final_5_grid_gdf,\n",
        "             data=final_top5,\n",
        "             columns = ['gid', 'sum'],\n",
        "             fill_color='YlOrRd',\n",
        "             key_on='properties.gid',\n",
        "             legend_name=\"최종 지수\"\n",
        "            )\n",
        "\n",
        "final_5_m.save('final_5_map.html')\n",
        "\n",
        "final_5_m"
      ]
    },
    {
      "cell_type": "markdown",
      "id": "worst-illness",
      "metadata": {
        "id": "worst-illness"
      },
      "source": [
        "## CCTV 우선설치 상위 50개소 결과"
      ]
    },
    {
      "cell_type": "code",
      "execution_count": null,
      "id": "stunning-happening",
      "metadata": {
        "id": "stunning-happening"
      },
      "outputs": [],
      "source": [
        "final_result.sort_values(by = 'sum', ascending = False).head(50)"
      ]
    },
    {
      "cell_type": "markdown",
      "id": "developing-central",
      "metadata": {
        "id": "developing-central"
      },
      "source": [
        "## Top 3 지역 분석"
      ]
    },
    {
      "cell_type": "markdown",
      "id": "harmful-vegetation",
      "metadata": {
        "id": "harmful-vegetation"
      },
      "source": [
        "### Top 1 지역 마라244972 (북부동사무소 앞) 심층분석"
      ]
    },
    {
      "cell_type": "code",
      "execution_count": null,
      "id": "systematic-cylinder",
      "metadata": {
        "id": "systematic-cylinder"
      },
      "outputs": [],
      "source": [
        "# 신고 횟수 분석\n",
        "police_df[police_df['gid'] == '마라244972'].count()"
      ]
    },
    {
      "cell_type": "code",
      "execution_count": null,
      "id": "applied-morris",
      "metadata": {
        "id": "applied-morris"
      },
      "outputs": [],
      "source": [
        "# 신고 유형별 분석\n",
        "police_df[police_df['gid'] == '마라244972'].groupby('case_type').count()"
      ]
    },
    {
      "cell_type": "code",
      "execution_count": null,
      "id": "incoming-candidate",
      "metadata": {
        "id": "incoming-candidate"
      },
      "outputs": [],
      "source": [
        "# Grid 내 CCTV 개수 분석\n",
        "cctv_set_gdf[cctv_set_gdf.index == '마라244972']"
      ]
    },
    {
      "cell_type": "code",
      "execution_count": null,
      "id": "neural-footage",
      "metadata": {
        "id": "neural-footage"
      },
      "outputs": [],
      "source": [
        "# Grid 내 보안등 개수 분석\n",
        "security_gdf[security_gdf['gid'] == '마라244972']"
      ]
    },
    {
      "cell_type": "markdown",
      "id": "quantitative-premiere",
      "metadata": {
        "id": "quantitative-premiere"
      },
      "source": [
        "### Top 2 지역 마라184895 (대청동 롯데마트 장유점 앞) 심층분석"
      ]
    },
    {
      "cell_type": "code",
      "execution_count": null,
      "id": "celtic-curtis",
      "metadata": {
        "id": "celtic-curtis"
      },
      "outputs": [],
      "source": [
        "# Grid 내 유흥업소 개수 분석\n",
        "busi_set_gdf[busi_set_gdf['gid'] == '마라184895']"
      ]
    },
    {
      "cell_type": "code",
      "execution_count": null,
      "id": "handmade-cover",
      "metadata": {
        "id": "handmade-cover"
      },
      "outputs": [],
      "source": [
        "# Grid 내 CCTV 개수 분석\n",
        "cctv_set_gdf[cctv_set_gdf.index == '마라184895']"
      ]
    },
    {
      "cell_type": "code",
      "execution_count": null,
      "id": "polish-truth",
      "metadata": {
        "id": "polish-truth"
      },
      "outputs": [],
      "source": [
        "# Grid 내 보안등 개수 분석\n",
        "security_gdf[security_gdf['gid'] == '마라184895']"
      ]
    },
    {
      "cell_type": "markdown",
      "id": "light-ecology",
      "metadata": {
        "id": "light-ecology"
      },
      "source": [
        "### Top 3 지역 마라244947 (내동 연지사거리) 심층분석"
      ]
    },
    {
      "cell_type": "code",
      "execution_count": null,
      "id": "unknown-statistics",
      "metadata": {
        "id": "unknown-statistics"
      },
      "outputs": [],
      "source": [
        "# 신고 횟수 분석\n",
        "police_df[police_df['gid'] == '마라244947'].count()"
      ]
    },
    {
      "cell_type": "code",
      "execution_count": null,
      "id": "thorough-iraqi",
      "metadata": {
        "id": "thorough-iraqi"
      },
      "outputs": [],
      "source": [
        "# 신고 유형별 분석\n",
        "police_df[police_df['gid'] == '마라244947'].groupby('case_type').count()"
      ]
    },
    {
      "cell_type": "code",
      "execution_count": null,
      "id": "instructional-nirvana",
      "metadata": {
        "id": "instructional-nirvana"
      },
      "outputs": [],
      "source": [
        "# Grid 내 CCTV 개수 분석\n",
        "cctv_set_gdf[cctv_set_gdf.index == '마라244947']"
      ]
    },
    {
      "cell_type": "code",
      "execution_count": null,
      "id": "quality-stability",
      "metadata": {
        "id": "quality-stability"
      },
      "outputs": [],
      "source": []
    }
  ],
  "metadata": {
    "colab": {
      "collapsed_sections": [],
      "name": "model.ipynb",
      "provenance": []
    },
    "kernelspec": {
      "display_name": "Python 3",
      "language": "python",
      "name": "python3"
    },
    "language_info": {
      "codemirror_mode": {
        "name": "ipython",
        "version": 3
      },
      "file_extension": ".py",
      "mimetype": "text/x-python",
      "name": "python",
      "nbconvert_exporter": "python",
      "pygments_lexer": "ipython3",
      "version": "3.6.9"
    }
  },
  "nbformat": 4,
  "nbformat_minor": 5
}